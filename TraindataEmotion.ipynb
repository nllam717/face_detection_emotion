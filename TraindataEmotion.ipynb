{
  "nbformat": 4,
  "nbformat_minor": 0,
  "metadata": {
    "colab": {
      "name": "TraindataEmotion.ipynb",
      "provenance": [],
      "collapsed_sections": [],
      "authorship_tag": "ABX9TyOmYI7H+Bi4auFHvKqo21Rq",
      "include_colab_link": true
    },
    "kernelspec": {
      "name": "python3",
      "display_name": "Python 3"
    }
  },
  "cells": [
    {
      "cell_type": "markdown",
      "metadata": {
        "id": "view-in-github",
        "colab_type": "text"
      },
      "source": [
        "<a href=\"https://colab.research.google.com/github/nllam717/face_detection_emotion/blob/master/TraindataEmotion.ipynb\" target=\"_parent\"><img src=\"https://colab.research.google.com/assets/colab-badge.svg\" alt=\"Open In Colab\"/></a>"
      ]
    },
    {
      "cell_type": "markdown",
      "metadata": {
        "id": "j7_6Sg07KlhY",
        "colab_type": "text"
      },
      "source": [
        "\n",
        "\n",
        "1.   **Nạp data**\n"
      ]
    },
    {
      "cell_type": "code",
      "metadata": {
        "id": "tl2Zrms7Kk0h",
        "colab_type": "code",
        "colab": {}
      },
      "source": [
        "#thư viện dùng trong model\n",
        "import tensorflow as tf\n",
        "\n",
        "import keras\n",
        "from keras.models import Sequential\n",
        "from keras.layers import Conv2D, MaxPooling2D, AveragePooling2D\n",
        "from keras.layers import Dense, Activation, Dropout, Flatten\n",
        "\n",
        "from keras.preprocessing import image\n",
        "from keras.preprocessing.image import ImageDataGenerator\n",
        "#thư viện xử lý data, array, matrix\n",
        "import pandas as pd\n",
        "import numpy as np\n",
        "import matplotlib.pyplot as plt"
      ],
      "execution_count": 0,
      "outputs": []
    },
    {
      "cell_type": "code",
      "metadata": {
        "id": "nbgcmFyQKyTf",
        "colab_type": "code",
        "colab": {}
      },
      "source": [
        "#nạp data\n",
        "filname = '/content/fer2013.csv'\n",
        "label_map = ['Anger', 'Disgust', 'Fear', 'Happy', 'Sad', 'Surprise', 'Neutral']\n",
        "names=['emotion','pixels','usage']\n",
        "df=pd.read_csv('/content/fer2013.csv',names=names, na_filter=False)\n",
        "im=df['pixels']\n",
        "df.head(10)"
      ],
      "execution_count": 0,
      "outputs": []
    },
    {
      "cell_type": "code",
      "metadata": {
        "id": "yZhXtX0ZK-jw",
        "colab_type": "code",
        "colab": {}
      },
      "source": [
        "# Hàm load dataset từ file CSV\n",
        "def getData(filname):\n",
        "    # tổng ảnh = 35887\n",
        "    Y = []\n",
        "    X = []\n",
        "    first = True\n",
        "    for line in open(filname):\n",
        "        if first:\n",
        "            first = False\n",
        "        else:\n",
        "            row = line.split(',')\n",
        "            Y.append(int(row[0]))\n",
        "            X.append([int(p) for p in row[1].split()])\n",
        "\n",
        "    X, Y = np.array(X) / 255.0, np.array(Y)\n",
        "    return X, Y"
      ],
      "execution_count": 0,
      "outputs": []
    },
    {
      "cell_type": "code",
      "metadata": {
        "id": "Iqyfyo7YK_XX",
        "colab_type": "code",
        "colab": {}
      },
      "source": [
        "X, Y = getData(filname)\n",
        "num_class = len(set(Y))\n",
        "print(num_class)"
      ],
      "execution_count": 0,
      "outputs": []
    },
    {
      "cell_type": "code",
      "metadata": {
        "id": "LVi106xCLH_e",
        "colab_type": "code",
        "colab": {}
      },
      "source": [
        "# keras with tensorflow backend\n",
        "N, D = X.shape\n",
        "X = X.reshape(N, 48, 48, 1)"
      ],
      "execution_count": 0,
      "outputs": []
    },
    {
      "cell_type": "code",
      "metadata": {
        "id": "GY7xzUM1LJiX",
        "colab_type": "code",
        "colab": {}
      },
      "source": [
        "from sklearn.model_selection import train_test_split\n",
        "\n",
        "X_train, X_test, y_train, y_test = train_test_split(X, Y, test_size=0.3, random_state=0)\n",
        "y_train = (np.arange(num_class) == y_train[:, None]).astype(np.float32)\n",
        "y_test = (np.arange(num_class) == y_test[:, None]).astype(np.float32)"
      ],
      "execution_count": 0,
      "outputs": []
    },
    {
      "cell_type": "code",
      "metadata": {
        "id": "r2PLvKWHL30H",
        "colab_type": "code",
        "colab": {}
      },
      "source": [
        "from keras.layers import Dense , Activation , Dropout ,Flatten\n",
        "from keras.layers.convolutional import Conv2D\n",
        "from keras.layers.convolutional import MaxPooling2D\n",
        "from keras.metrics import categorical_accuracy\n",
        "from keras.models import model_from_json\n",
        "from keras.callbacks import ModelCheckpoint\n",
        "from keras.optimizers import *\n",
        "from keras.layers.normalization import BatchNormalization"
      ],
      "execution_count": 0,
      "outputs": []
    },
    {
      "cell_type": "code",
      "metadata": {
        "id": "LVmbUNP6L51P",
        "colab_type": "code",
        "colab": {}
      },
      "source": [
        "def my_model():\n",
        "    model = Sequential()\n",
        "    input_shape = (48,48,1)\n",
        "    model.add(Conv2D(64, (5, 5), input_shape=input_shape,activation='relu', padding='same'))\n",
        "    model.add(Conv2D(64, (5, 5), activation='relu', padding='same'))\n",
        "    model.add(BatchNormalization())\n",
        "    model.add(MaxPooling2D(pool_size=(2, 2)))\n",
        "\n",
        "    model.add(Conv2D(128, (5, 5),activation='relu',padding='same'))\n",
        "    model.add(Conv2D(128, (5, 5),activation='relu',padding='same'))\n",
        "    model.add(BatchNormalization())\n",
        "    model.add(MaxPooling2D(pool_size=(2, 2)))\n",
        "\n",
        "    model.add(Conv2D(256, (3, 3),activation='relu',padding='same'))\n",
        "    model.add(Conv2D(256, (3, 3),activation='relu',padding='same'))\n",
        "    model.add(BatchNormalization())\n",
        "    model.add(MaxPooling2D(pool_size=(2, 2)))\n",
        "\n",
        "    model.add(Flatten())\n",
        "    model.add(Dense(128))\n",
        "    model.add(BatchNormalization())\n",
        "    model.add(Activation('relu'))\n",
        "    model.add(Dropout(0.2))\n",
        "    model.add(Dense(7))\n",
        "    model.add(Activation('softmax'))\n",
        "    \n",
        "    model.compile(loss='categorical_crossentropy', metrics=['accuracy'],optimizer='adam')\n",
        "    # UNCOMMENT THIS TO VIEW THE ARCHITECTURE\n",
        "    #model.summary()\n",
        "    \n",
        "    return model\n",
        "model=my_model()\n",
        "model.summary()"
      ],
      "execution_count": 0,
      "outputs": []
    },
    {
      "cell_type": "code",
      "metadata": {
        "id": "gie5n54nME0e",
        "colab_type": "code",
        "colab": {}
      },
      "source": [
        ""
      ],
      "execution_count": 0,
      "outputs": []
    },
    {
      "cell_type": "code",
      "metadata": {
        "id": "HS7v98yoMAd9",
        "colab_type": "code",
        "colab": {}
      },
      "source": [
        "path_model='model_filter2.h5' # save model at this location after each epoch\n",
        "K.tensorflow_backend.clear_session() # destroys the current graph and builds a new one\n",
        "model=my_model() # create the model\n",
        "K.set_value(model.optimizer.lr,1e-3) # set the learning rate\n",
        "# fit the model\n",
        "h=model.fit(x=X_train,     \n",
        "            y=y_train, \n",
        "            batch_size=64, \n",
        "            epochs=50, \n",
        "            verbose=1, \n",
        "            validation_data=(X_test,y_test),\n",
        "            shuffle=True,\n",
        "            callbacks=[\n",
        "                ModelCheckpoint(filepath=path_model),\n",
        "            ]\n",
        "            )"
      ],
      "execution_count": 0,
      "outputs": []
    },
    {
      "cell_type": "code",
      "metadata": {
        "id": "s852A0E0MGKe",
        "colab_type": "code",
        "colab": {}
      },
      "source": [
        "from sklearn.datasets import make_classification\n",
        "from sklearn.metrics import accuracy_score, f1_score, precision_score, recall_score, classification_report, confusion_matrix\n",
        "\n",
        "from sklearn.datasets import make_circles\n",
        "from keras.models import Sequential\n",
        "from keras.layers import Dense\n",
        "from matplotlib import pyplot\n",
        "# generate dataset\n",
        "\n",
        "# evaluate the model\n",
        "_, train_acc = model.evaluate(X_train, y_train, verbose=0)\n",
        "_, test_acc = model.evaluate(X_test, y_test, verbose=0)\n",
        "print('Train: %.3f, Test: %.3f' % (train_acc, test_acc))"
      ],
      "execution_count": 0,
      "outputs": []
    }
  ]
}